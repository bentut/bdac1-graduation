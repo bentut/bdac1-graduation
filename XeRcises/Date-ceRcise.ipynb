{
 "cells": [
  {
   "cell_type": "markdown",
   "metadata": {},
   "source": [
    "# Date Manipulation\n",
    "\n",
    "This code is going to help us learn about formatting dates.\n",
    "\n",
    "#### Step 1: Import a data set using the reader package."
   ]
  },
  {
   "cell_type": "code",
   "execution_count": 2,
   "metadata": {},
   "outputs": [
    {
     "name": "stderr",
     "output_type": "stream",
     "text": [
      "Parsed with column specification:\n",
      "cols(\n",
      "  Start = col_character(),\n",
      "  Finish = col_character(),\n",
      "  `Active Calories (kcal)` = col_integer(),\n",
      "  `Body Fat Percentage (%)` = col_integer(),\n",
      "  `Body Mass Index (count)` = col_integer(),\n",
      "  `Dietary Calories (cal)` = col_integer(),\n",
      "  `Distance (mi)` = col_double(),\n",
      "  `Flights Climbed (count)` = col_integer(),\n",
      "  `Heart Rate (count/min)` = col_integer(),\n",
      "  `Steps (count)` = col_double()\n",
      ")\n"
     ]
    }
   ],
   "source": [
    "library(readr)\n",
    "\n",
    "health <- read_csv(\"data/health-app-data-subset.csv\")"
   ]
  },
  {
   "cell_type": "code",
   "execution_count": 3,
   "metadata": {},
   "outputs": [
    {
     "data": {
      "text/plain": [
       "    Start              Finish          Active Calories (kcal)\n",
       " Length:1110        Length:1110        Min.   :0             \n",
       " Class :character   Class :character   1st Qu.:0             \n",
       " Mode  :character   Mode  :character   Median :0             \n",
       "                                       Mean   :0             \n",
       "                                       3rd Qu.:0             \n",
       "                                       Max.   :0             \n",
       "                                       NA's   :1081          \n",
       " Body Fat Percentage (%) Body Mass Index (count) Dietary Calories (cal)\n",
       " Min.   :0               Min.   :0               Min.   :0             \n",
       " 1st Qu.:0               1st Qu.:0               1st Qu.:0             \n",
       " Median :0               Median :0               Median :0             \n",
       " Mean   :0               Mean   :0               Mean   :0             \n",
       " 3rd Qu.:0               3rd Qu.:0               3rd Qu.:0             \n",
       " Max.   :0               Max.   :0               Max.   :0             \n",
       " NA's   :1081            NA's   :1081            NA's   :1081          \n",
       " Distance (mi)    Flights Climbed (count) Heart Rate (count/min)\n",
       " Min.   :0.1223   Min.   : 2.00           Min.   :0             \n",
       " 1st Qu.:1.7106   1st Qu.: 5.00           1st Qu.:0             \n",
       " Median :4.0411   Median : 7.00           Median :0             \n",
       " Mean   :3.9407   Mean   :12.66           Mean   :0             \n",
       " 3rd Qu.:6.1523   3rd Qu.:10.00           3rd Qu.:0             \n",
       " Max.   :9.2058   Max.   :91.00           Max.   :0             \n",
       " NA's   :1081     NA's   :1081            NA's   :1081          \n",
       " Steps (count)  \n",
       " Min.   :  284  \n",
       " 1st Qu.: 3576  \n",
       " Median : 8256  \n",
       " Mean   : 8281  \n",
       " 3rd Qu.:12788  \n",
       " Max.   :19357  \n",
       " NA's   :1081   "
      ]
     },
     "metadata": {},
     "output_type": "display_data"
    }
   ],
   "source": [
    "summary(health)"
   ]
  },
  {
   "cell_type": "markdown",
   "metadata": {},
   "source": [
    "Notice from the summary function that the Start and Finish columns, which represent dates, are shown as characters.  This is how we know we need to manipulate the format of the date so we can transform the data into other useful forms, for example, what day of the week it is.\n",
    "\n",
    "#### Step 2: Use the parsedate package to transform the characters into a date that can be further worked on."
   ]
  },
  {
   "cell_type": "code",
   "execution_count": 4,
   "metadata": {},
   "outputs": [
    {
     "name": "stderr",
     "output_type": "stream",
     "text": [
      "Updating HTML index of packages in '.Library'\n",
      "Making 'packages.html' ... done\n",
      "\n",
      "Attaching package: ‘parsedate’\n",
      "\n",
      "The following object is masked from ‘package:readr’:\n",
      "\n",
      "    parse_date\n",
      "\n"
     ]
    },
    {
     "ename": "ERROR",
     "evalue": "Error in seq_len(sum(positive)): argument must be coercible to non-negative integer\n",
     "execution_count": 4,
     "output_type": "error",
     "traceback": [
      "Error in seq_len(sum(positive)): argument must be coercible to non-negative integer\nTraceback:\n",
      "1. parse_date(health$Start)",
      "2. parse_iso_8601(dates[dates.to.parse(dates, result)])",
      "3. regexp_to_df(dates, match)",
      "4. lapply(seq_len(sum(positive)), function(i) {\n .     data.frame(start = g_start[i, ], length = g_length[i, ], \n .         match = substring(g_text[i], g_start[i, ], g_start[i, \n .             ] + g_length[i, ] - 1), stringsAsFactors = FALSE)\n . })"
     ]
    }
   ],
   "source": [
    "install.packages(\"parsedate\")\n",
    "library(parsedate)\n",
    "\n",
    "health$date <- parse_date(health$Start) #parsedate package\n",
    "\n",
    "summary(health)"
   ]
  },
  {
   "cell_type": "markdown",
   "metadata": {},
   "source": [
    "Now view the format of the new column we added, called date.\n",
    "\n",
    "#### Step 3: Use the lubridate package to then transform dates into forms like day of week, month, day, and year.  We can then use these pieces of data to create graphs and look for patterns based on time period."
   ]
  },
  {
   "cell_type": "code",
   "execution_count": 5,
   "metadata": {},
   "outputs": [
    {
     "name": "stderr",
     "output_type": "stream",
     "text": [
      "Updating HTML index of packages in '.Library'\n",
      "Making 'packages.html' ... done\n",
      "\n",
      "Attaching package: ‘lubridate’\n",
      "\n",
      "The following object is masked from ‘package:base’:\n",
      "\n",
      "    date\n",
      "\n",
      "Warning message:\n",
      "“Unknown or uninitialised column: 'date'.”"
     ]
    },
    {
     "ename": "ERROR",
     "evalue": "Error in as.Date.default(health$date): do not know how to convert 'health$date' to class “Date”\n",
     "execution_count": 5,
     "output_type": "error",
     "traceback": [
      "Error in as.Date.default(health$date): do not know how to convert 'health$date' to class “Date”\nTraceback:\n",
      "1. as.Date(health$date)",
      "2. as.Date.default(health$date)",
      "3. stop(gettextf(\"do not know how to convert '%s' to class %s\", \n .     deparse(substitute(x)), dQuote(\"Date\")), domain = NA)"
     ]
    }
   ],
   "source": [
    "install.packages(\"lubridate\")\n",
    "library(lubridate)\n",
    "\n",
    "health$newdate <- as.Date(health$date)\n",
    "health$dayofweek <- format(health$newdate, \"%A\")\n",
    "health$month <- format(health$newdate, \"%B\")\n",
    "health$day <- format(health$newdate, \"%d\")\n",
    "health$year <- format(health$newdate, \"%Y\")\n",
    "\n",
    "summary(health)"
   ]
  },
  {
   "cell_type": "code",
   "execution_count": null,
   "metadata": {},
   "outputs": [],
   "source": [
    "head(health)"
   ]
  },
  {
   "cell_type": "markdown",
   "metadata": {},
   "source": [
    "By viewing the data frame, the five columns at the end show what we did in this exercise: Transform text into a date format and then parse that date into different periods of time like days or months for futher analysis."
   ]
  }
 ],
 "metadata": {
  "kernelspec": {
   "display_name": "R",
   "language": "R",
   "name": "ir"
  },
  "language_info": {
   "codemirror_mode": "r",
   "file_extension": ".r",
   "mimetype": "text/x-r-source",
   "name": "R",
   "pygments_lexer": "r",
   "version": "3.4.1"
  }
 },
 "nbformat": 4,
 "nbformat_minor": 2
}
