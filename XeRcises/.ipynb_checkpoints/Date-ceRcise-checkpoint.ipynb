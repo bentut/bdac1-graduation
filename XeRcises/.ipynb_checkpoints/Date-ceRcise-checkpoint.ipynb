{
 "cells": [
  {
   "cell_type": "markdown",
   "metadata": {},
   "source": [
    "# Date Manipulation\n",
    "\n",
    "This code is going to help us learn about formatting dates.\n",
    "\n",
    "#### Step 1: Import a data set using the reader package."
   ]
  },
  {
   "cell_type": "code",
   "execution_count": null,
   "metadata": {},
   "outputs": [],
   "source": [
    "library(readr)\n",
    "\n",
    "health <- read_csv(\"health-app-data-subset.csv\")"
   ]
  },
  {
   "cell_type": "code",
   "execution_count": null,
   "metadata": {},
   "outputs": [],
   "source": [
    "summary(health)"
   ]
  },
  {
   "cell_type": "markdown",
   "metadata": {},
   "source": [
    "Notice from the summary function that the Start and Finish columns, which represent dates, are shown as characters.  This is how we know we need to manipulate the format of the date so we can transform the data into other useful forms, for example, what day of the week it is.\n",
    "\n",
    "#### Step 2: Use the parsedate package to transform the characters into a date that can be further worked on."
   ]
  },
  {
   "cell_type": "code",
   "execution_count": null,
   "metadata": {},
   "outputs": [],
   "source": [
    "install.packages(\"parsedate\")\n",
    "library(parsedate)\n",
    "\n",
    "health$date <- parse_date(health$Start) #parsedate package\n",
    "\n",
    "summary(health)"
   ]
  },
  {
   "cell_type": "markdown",
   "metadata": {},
   "source": [
    "Now view the format of the new column we added, called date.\n",
    "\n",
    "#### Step 3: Use the lubridate package to then transform dates into forms like day of week, month, day, and year.  We can then use these pieces of data to create graphs and look for patterns based on time period."
   ]
  },
  {
   "cell_type": "code",
   "execution_count": null,
   "metadata": {},
   "outputs": [],
   "source": [
    "install.packages(\"lubridate\")\n",
    "library(lubridate)\n",
    "\n",
    "health$newdate <- as.Date(health$date)\n",
    "health$dayofweek <- format(health$newdate, \"%A\")\n",
    "health$month <- format(health$newdate, \"%B\")\n",
    "health$day <- format(health$newdate, \"%d\")\n",
    "health$year <- format(health$newdate, \"%Y\")\n",
    "\n",
    "summary(health)"
   ]
  },
  {
   "cell_type": "code",
   "execution_count": null,
   "metadata": {},
   "outputs": [],
   "source": [
    "head(health)"
   ]
  },
  {
   "cell_type": "markdown",
   "metadata": {},
   "source": [
    "By viewing the data frame, the five columns at the end show what we did in this exercise: Transform text into a date format and then parse that date into different periods of time like days or months for futher analysis."
   ]
  }
 ],
 "metadata": {
  "kernelspec": {
   "display_name": "R",
   "language": "R",
   "name": "ir"
  },
  "language_info": {
   "codemirror_mode": "r",
   "file_extension": ".r",
   "mimetype": "text/x-r-source",
   "name": "R",
   "pygments_lexer": "r",
   "version": "3.4.1"
  }
 },
 "nbformat": 4,
 "nbformat_minor": 2
}
