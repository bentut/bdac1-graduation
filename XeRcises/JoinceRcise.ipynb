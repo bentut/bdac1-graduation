{
 "cells": [
  {
   "cell_type": "markdown",
   "metadata": {},
   "source": [
    "### Joincersice!!!"
   ]
  },
  {
   "cell_type": "code",
   "execution_count": null,
   "metadata": {},
   "outputs": [],
   "source": [
    "library(dplyr)"
   ]
  },
  {
   "cell_type": "code",
   "execution_count": 43,
   "metadata": {},
   "outputs": [],
   "source": [
    "Names <- c(\"Tori\", \"Ben\", \"Hunter\", \"Runjini\")\n",
    "Macs <- c(\"MacBook\", \"Pro2014\", \"Pro2017\", \"Pro2011\" )\n",
    "Gender_Mac <- c(\"Female\", \"Male\", \"Male\", \"Female\")\n",
    "Mac <- data.frame(Names, Macs, Gender_Mac)"
   ]
  },
  {
   "cell_type": "code",
   "execution_count": 44,
   "metadata": {},
   "outputs": [],
   "source": [
    "Names <- c(\"Jon\", \"Hunter\", \"Runjini\")\n",
    "Cars <- c(\"Fit\", \"Escape\", \"Mini\")\n",
    "Gender_Car <- c(\"Male\", \"Male\", \"Female\")\n",
    "Car <- data.frame(Names, Cars, Gender_Car)"
   ]
  },
  {
   "cell_type": "code",
   "execution_count": 49,
   "metadata": {},
   "outputs": [
    {
     "data": {
      "text/html": [
       "<table>\n",
       "<thead><tr><th scope=col>Names</th><th scope=col>Macs</th><th scope=col>Gender_Mac</th></tr></thead>\n",
       "<tbody>\n",
       "\t<tr><td>Tori   </td><td>MacBook</td><td>Female </td></tr>\n",
       "\t<tr><td>Ben    </td><td>Pro2014</td><td>Male   </td></tr>\n",
       "\t<tr><td>Hunter </td><td>Pro2017</td><td>Male   </td></tr>\n",
       "\t<tr><td>Runjini</td><td>Pro2011</td><td>Female </td></tr>\n",
       "</tbody>\n",
       "</table>\n"
      ],
      "text/latex": [
       "\\begin{tabular}{r|lll}\n",
       " Names & Macs & Gender\\_Mac\\\\\n",
       "\\hline\n",
       "\t Tori    & MacBook & Female \\\\\n",
       "\t Ben     & Pro2014 & Male   \\\\\n",
       "\t Hunter  & Pro2017 & Male   \\\\\n",
       "\t Runjini & Pro2011 & Female \\\\\n",
       "\\end{tabular}\n"
      ],
      "text/markdown": [
       "\n",
       "Names | Macs | Gender_Mac | \n",
       "|---|---|---|---|\n",
       "| Tori    | MacBook | Female  | \n",
       "| Ben     | Pro2014 | Male    | \n",
       "| Hunter  | Pro2017 | Male    | \n",
       "| Runjini | Pro2011 | Female  | \n",
       "\n",
       "\n"
      ],
      "text/plain": [
       "  Names   Macs    Gender_Mac\n",
       "1 Tori    MacBook Female    \n",
       "2 Ben     Pro2014 Male      \n",
       "3 Hunter  Pro2017 Male      \n",
       "4 Runjini Pro2011 Female    "
      ]
     },
     "metadata": {},
     "output_type": "display_data"
    },
    {
     "data": {
      "text/html": [
       "<table>\n",
       "<thead><tr><th scope=col>Names</th><th scope=col>Cars</th><th scope=col>Gender_Car</th></tr></thead>\n",
       "<tbody>\n",
       "\t<tr><td>Jon    </td><td>Fit    </td><td>Male   </td></tr>\n",
       "\t<tr><td>Hunter </td><td>Escape </td><td>Male   </td></tr>\n",
       "\t<tr><td>Runjini</td><td>Mini   </td><td>Female </td></tr>\n",
       "</tbody>\n",
       "</table>\n"
      ],
      "text/latex": [
       "\\begin{tabular}{r|lll}\n",
       " Names & Cars & Gender\\_Car\\\\\n",
       "\\hline\n",
       "\t Jon     & Fit     & Male   \\\\\n",
       "\t Hunter  & Escape  & Male   \\\\\n",
       "\t Runjini & Mini    & Female \\\\\n",
       "\\end{tabular}\n"
      ],
      "text/markdown": [
       "\n",
       "Names | Cars | Gender_Car | \n",
       "|---|---|---|\n",
       "| Jon     | Fit     | Male    | \n",
       "| Hunter  | Escape  | Male    | \n",
       "| Runjini | Mini    | Female  | \n",
       "\n",
       "\n"
      ],
      "text/plain": [
       "  Names   Cars   Gender_Car\n",
       "1 Jon     Fit    Male      \n",
       "2 Hunter  Escape Male      \n",
       "3 Runjini Mini   Female    "
      ]
     },
     "metadata": {},
     "output_type": "display_data"
    }
   ],
   "source": [
    "Mac\n",
    "Car"
   ]
  },
  {
   "cell_type": "code",
   "execution_count": 45,
   "metadata": {},
   "outputs": [
    {
     "name": "stderr",
     "output_type": "stream",
     "text": [
      "Warning message:\n",
      "“Column `Names` joining factors with different levels, coercing to character vector”"
     ]
    },
    {
     "data": {
      "text/html": [
       "<table>\n",
       "<thead><tr><th scope=col>Names</th><th scope=col>Macs</th><th scope=col>Gender_Mac</th><th scope=col>Cars</th><th scope=col>Gender_Car</th></tr></thead>\n",
       "<tbody>\n",
       "\t<tr><td>Tori   </td><td>MacBook</td><td>Female </td><td>NA     </td><td>NA     </td></tr>\n",
       "\t<tr><td>Ben    </td><td>Pro2014</td><td>Male   </td><td>NA     </td><td>NA     </td></tr>\n",
       "\t<tr><td>Hunter </td><td>Pro2017</td><td>Male   </td><td>Escape </td><td>Male   </td></tr>\n",
       "\t<tr><td>Runjini</td><td>Pro2011</td><td>Female </td><td>Mini   </td><td>Female </td></tr>\n",
       "</tbody>\n",
       "</table>\n"
      ],
      "text/latex": [
       "\\begin{tabular}{r|lllll}\n",
       " Names & Macs & Gender\\_Mac & Cars & Gender\\_Car\\\\\n",
       "\\hline\n",
       "\t Tori    & MacBook & Female  & NA      & NA     \\\\\n",
       "\t Ben     & Pro2014 & Male    & NA      & NA     \\\\\n",
       "\t Hunter  & Pro2017 & Male    & Escape  & Male   \\\\\n",
       "\t Runjini & Pro2011 & Female  & Mini    & Female \\\\\n",
       "\\end{tabular}\n"
      ],
      "text/markdown": [
       "\n",
       "Names | Macs | Gender_Mac | Cars | Gender_Car | \n",
       "|---|---|---|---|\n",
       "| Tori    | MacBook | Female  | NA      | NA      | \n",
       "| Ben     | Pro2014 | Male    | NA      | NA      | \n",
       "| Hunter  | Pro2017 | Male    | Escape  | Male    | \n",
       "| Runjini | Pro2011 | Female  | Mini    | Female  | \n",
       "\n",
       "\n"
      ],
      "text/plain": [
       "  Names   Macs    Gender_Mac Cars   Gender_Car\n",
       "1 Tori    MacBook Female     NA     NA        \n",
       "2 Ben     Pro2014 Male       NA     NA        \n",
       "3 Hunter  Pro2017 Male       Escape Male      \n",
       "4 Runjini Pro2011 Female     Mini   Female    "
      ]
     },
     "metadata": {},
     "output_type": "display_data"
    }
   ],
   "source": [
    "# Showing all names of people that have macs (because its in the left hand dataframe)\n",
    "left_join(Mac, Car, by=\"Names\")"
   ]
  },
  {
   "cell_type": "code",
   "execution_count": 46,
   "metadata": {},
   "outputs": [
    {
     "name": "stderr",
     "output_type": "stream",
     "text": [
      "Warning message:\n",
      "“Column `Names` joining factors with different levels, coercing to character vector”"
     ]
    },
    {
     "data": {
      "text/html": [
       "<table>\n",
       "<thead><tr><th scope=col>Names</th><th scope=col>Macs</th><th scope=col>Gender_Mac</th><th scope=col>Cars</th><th scope=col>Gender_Car</th></tr></thead>\n",
       "<tbody>\n",
       "\t<tr><td>Jon    </td><td>NA     </td><td>NA     </td><td>Fit    </td><td>Male   </td></tr>\n",
       "\t<tr><td>Hunter </td><td>Pro2017</td><td>Male   </td><td>Escape </td><td>Male   </td></tr>\n",
       "\t<tr><td>Runjini</td><td>Pro2011</td><td>Female </td><td>Mini   </td><td>Female </td></tr>\n",
       "</tbody>\n",
       "</table>\n"
      ],
      "text/latex": [
       "\\begin{tabular}{r|lllll}\n",
       " Names & Macs & Gender\\_Mac & Cars & Gender\\_Car\\\\\n",
       "\\hline\n",
       "\t Jon     & NA      & NA      & Fit     & Male   \\\\\n",
       "\t Hunter  & Pro2017 & Male    & Escape  & Male   \\\\\n",
       "\t Runjini & Pro2011 & Female  & Mini    & Female \\\\\n",
       "\\end{tabular}\n"
      ],
      "text/markdown": [
       "\n",
       "Names | Macs | Gender_Mac | Cars | Gender_Car | \n",
       "|---|---|---|\n",
       "| Jon     | NA      | NA      | Fit     | Male    | \n",
       "| Hunter  | Pro2017 | Male    | Escape  | Male    | \n",
       "| Runjini | Pro2011 | Female  | Mini    | Female  | \n",
       "\n",
       "\n"
      ],
      "text/plain": [
       "  Names   Macs    Gender_Mac Cars   Gender_Car\n",
       "1 Jon     NA      NA         Fit    Male      \n",
       "2 Hunter  Pro2017 Male       Escape Male      \n",
       "3 Runjini Pro2011 Female     Mini   Female    "
      ]
     },
     "metadata": {},
     "output_type": "display_data"
    }
   ],
   "source": [
    "# Showing all names of people that have cars (because its in the right hand dataframe)\n",
    "right_join(Mac, Car, by=\"Names\")"
   ]
  },
  {
   "cell_type": "code",
   "execution_count": 47,
   "metadata": {},
   "outputs": [
    {
     "name": "stderr",
     "output_type": "stream",
     "text": [
      "Warning message:\n",
      "“Column `Names` joining factors with different levels, coercing to character vector”"
     ]
    },
    {
     "data": {
      "text/html": [
       "<table>\n",
       "<thead><tr><th scope=col>Names</th><th scope=col>Macs</th><th scope=col>Gender_Mac</th><th scope=col>Cars</th><th scope=col>Gender_Car</th></tr></thead>\n",
       "<tbody>\n",
       "\t<tr><td>Hunter </td><td>Pro2017</td><td>Male   </td><td>Escape </td><td>Male   </td></tr>\n",
       "\t<tr><td>Runjini</td><td>Pro2011</td><td>Female </td><td>Mini   </td><td>Female </td></tr>\n",
       "</tbody>\n",
       "</table>\n"
      ],
      "text/latex": [
       "\\begin{tabular}{r|lllll}\n",
       " Names & Macs & Gender\\_Mac & Cars & Gender\\_Car\\\\\n",
       "\\hline\n",
       "\t Hunter  & Pro2017 & Male    & Escape  & Male   \\\\\n",
       "\t Runjini & Pro2011 & Female  & Mini    & Female \\\\\n",
       "\\end{tabular}\n"
      ],
      "text/markdown": [
       "\n",
       "Names | Macs | Gender_Mac | Cars | Gender_Car | \n",
       "|---|---|\n",
       "| Hunter  | Pro2017 | Male    | Escape  | Male    | \n",
       "| Runjini | Pro2011 | Female  | Mini    | Female  | \n",
       "\n",
       "\n"
      ],
      "text/plain": [
       "  Names   Macs    Gender_Mac Cars   Gender_Car\n",
       "1 Hunter  Pro2017 Male       Escape Male      \n",
       "2 Runjini Pro2011 Female     Mini   Female    "
      ]
     },
     "metadata": {},
     "output_type": "display_data"
    }
   ],
   "source": [
    "#Showing only the names that have both cars and macs\n",
    "inner_join(Mac, Car, by=\"Names\")"
   ]
  },
  {
   "cell_type": "code",
   "execution_count": 48,
   "metadata": {},
   "outputs": [
    {
     "name": "stderr",
     "output_type": "stream",
     "text": [
      "Warning message:\n",
      "“Column `Names` joining factors with different levels, coercing to character vector”"
     ]
    },
    {
     "data": {
      "text/html": [
       "<table>\n",
       "<thead><tr><th scope=col>Names</th><th scope=col>Macs</th><th scope=col>Gender_Mac</th><th scope=col>Cars</th><th scope=col>Gender_Car</th></tr></thead>\n",
       "<tbody>\n",
       "\t<tr><td>Tori   </td><td>MacBook</td><td>Female </td><td>NA     </td><td>NA     </td></tr>\n",
       "\t<tr><td>Ben    </td><td>Pro2014</td><td>Male   </td><td>NA     </td><td>NA     </td></tr>\n",
       "\t<tr><td>Hunter </td><td>Pro2017</td><td>Male   </td><td>Escape </td><td>Male   </td></tr>\n",
       "\t<tr><td>Runjini</td><td>Pro2011</td><td>Female </td><td>Mini   </td><td>Female </td></tr>\n",
       "\t<tr><td>Jon    </td><td>NA     </td><td>NA     </td><td>Fit    </td><td>Male   </td></tr>\n",
       "</tbody>\n",
       "</table>\n"
      ],
      "text/latex": [
       "\\begin{tabular}{r|lllll}\n",
       " Names & Macs & Gender\\_Mac & Cars & Gender\\_Car\\\\\n",
       "\\hline\n",
       "\t Tori    & MacBook & Female  & NA      & NA     \\\\\n",
       "\t Ben     & Pro2014 & Male    & NA      & NA     \\\\\n",
       "\t Hunter  & Pro2017 & Male    & Escape  & Male   \\\\\n",
       "\t Runjini & Pro2011 & Female  & Mini    & Female \\\\\n",
       "\t Jon     & NA      & NA      & Fit     & Male   \\\\\n",
       "\\end{tabular}\n"
      ],
      "text/markdown": [
       "\n",
       "Names | Macs | Gender_Mac | Cars | Gender_Car | \n",
       "|---|---|---|---|---|\n",
       "| Tori    | MacBook | Female  | NA      | NA      | \n",
       "| Ben     | Pro2014 | Male    | NA      | NA      | \n",
       "| Hunter  | Pro2017 | Male    | Escape  | Male    | \n",
       "| Runjini | Pro2011 | Female  | Mini    | Female  | \n",
       "| Jon     | NA      | NA      | Fit     | Male    | \n",
       "\n",
       "\n"
      ],
      "text/plain": [
       "  Names   Macs    Gender_Mac Cars   Gender_Car\n",
       "1 Tori    MacBook Female     NA     NA        \n",
       "2 Ben     Pro2014 Male       NA     NA        \n",
       "3 Hunter  Pro2017 Male       Escape Male      \n",
       "4 Runjini Pro2011 Female     Mini   Female    \n",
       "5 Jon     NA      NA         Fit    Male      "
      ]
     },
     "metadata": {},
     "output_type": "display_data"
    }
   ],
   "source": [
    "#Showing names of everyone no matter what!\n",
    "full_join(Mac, Car, by=\"Names\")"
   ]
  }
 ],
 "metadata": {
  "kernelspec": {
   "display_name": "R",
   "language": "R",
   "name": "ir"
  },
  "language_info": {
   "codemirror_mode": "r",
   "file_extension": ".r",
   "mimetype": "text/x-r-source",
   "name": "R",
   "pygments_lexer": "r",
   "version": "3.4.1"
  }
 },
 "nbformat": 4,
 "nbformat_minor": 2
}
