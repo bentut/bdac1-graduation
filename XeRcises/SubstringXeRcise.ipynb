{
 "cells": [
  {
   "cell_type": "markdown",
   "metadata": {},
   "source": [
    "#### In this exercise we will be learning how substring() works."
   ]
  },
  {
   "cell_type": "code",
   "execution_count": 1,
   "metadata": {},
   "outputs": [],
   "source": [
    "library(stringr)"
   ]
  },
  {
   "cell_type": "markdown",
   "metadata": {},
   "source": [
    "#### substring(x, first, last)=\"the replacement\"\n",
    "- x:  A character string.\n",
    "- first: If the characters of x were numbered, then the number of the first character to be returned (or overwritten).\n",
    "- last: The number of the last character to be returned (or overwritten), which is defaulted to 1 million."
   ]
  },
  {
   "cell_type": "code",
   "execution_count": 32,
   "metadata": {},
   "outputs": [],
   "source": [
    "x <- \"a quick brown fox jumps over the lazy dog\""
   ]
  },
  {
   "cell_type": "code",
   "execution_count": 30,
   "metadata": {},
   "outputs": [],
   "source": [
    "substring(x, 3, 8)=\"quiet\""
   ]
  },
  {
   "cell_type": "code",
   "execution_count": 31,
   "metadata": {},
   "outputs": [
    {
     "data": {
      "text/html": [
       "'a quiet brown fox jumps over the lazy dog'"
      ],
      "text/latex": [
       "'a quiet brown fox jumps over the lazy dog'"
      ],
      "text/markdown": [
       "'a quiet brown fox jumps over the lazy dog'"
      ],
      "text/plain": [
       "[1] \"a quiet brown fox jumps over the lazy dog\""
      ]
     },
     "metadata": {},
     "output_type": "display_data"
    }
   ],
   "source": [
    "x "
   ]
  },
  {
   "cell_type": "markdown",
   "metadata": {},
   "source": [
    "# Another example"
   ]
  },
  {
   "cell_type": "code",
   "execution_count": 36,
   "metadata": {},
   "outputs": [
    {
     "data": {
      "text/html": [
       "'k brown fox jumps over the lazy dog'"
      ],
      "text/latex": [
       "'k brown fox jumps over the lazy dog'"
      ],
      "text/markdown": [
       "'k brown fox jumps over the lazy dog'"
      ],
      "text/plain": [
       "[1] \"k brown fox jumps over the lazy dog\""
      ]
     },
     "metadata": {},
     "output_type": "display_data"
    }
   ],
   "source": [
    "substring(x, 7)"
   ]
  },
  {
   "cell_type": "code",
   "execution_count": null,
   "metadata": {},
   "outputs": [],
   "source": [
    "page3 = substring(page3,tindex+7)"
   ]
  }
 ],
 "metadata": {
  "kernelspec": {
   "display_name": "R",
   "language": "R",
   "name": "ir"
  },
  "language_info": {
   "codemirror_mode": "r",
   "file_extension": ".r",
   "mimetype": "text/x-r-source",
   "name": "R",
   "pygments_lexer": "r",
   "version": "3.4.1"
  }
 },
 "nbformat": 4,
 "nbformat_minor": 2
}
