{
 "cells": [
  {
   "cell_type": "markdown",
   "metadata": {},
   "source": [
    "# Sprint 8 - Tests Galore - Retrospective\n",
    "\n",
    "As the topics get more difficult, there’s more interest in students working on a similar thing to be able to check work with each other and learn from each other’s progress.\n",
    "\n",
    "Early in the class, people’s objectives were sufficiently different that it was hard to see what any individual’s work had to do with any other individual’s learning task. These tasks seem to be sufficiently foreign that in order to understand, ears are perking up and learners are listening for any hint of what they don’t comprehend.\n",
    "\n",
    "This could represent a general state of desperation, perhaps a sign that the stretch is a bit too far. But it could also suggest the key to the state of mind that is actively listening to the community for possible solutions to problems.\n",
    "\n",
    "On the topic of shared work, however, there do seem to be a things that common work can address. We’ve experimented with two different kinds of in class independent work.\n",
    "\n",
    "Shared data sets and short term exploration. People seemed to really like that. just to see how far they could get on a new dataset. What they found out about it and what others shared. This seems like a good exercise to start everyone off on, especially given that it’s an exercise that will always need to be undertaken.\n",
    "\n",
    "It makes me think that perhaps we should start the class with Exploratory Data Analysis, so that it is ingrained from the beginning as well as the opportunity to learn from ones classmates. However, the ability to track things in R, was a key learning point here, but there are lots of R tutorials in exploratory analysis. Blind exploration without a set of questions could be a little too broad. But perhaps some preliminary questions to accompany exploratory data analysis is a project approach.\n",
    "\n",
    "We also experimented with mini-projects. The process seemed to give people a chance to work on a specific skill or in a direction, although not the same as completed project with a product, and people seemed to get lost at some point after exploring. Not the same polish as a full project, but easier to get started. These mini-projects were also a little hard to motivate. They were currently centered around learning any number of the skills on the list, part tutorial, part experiment. It’s probably not necessarily possible to do a tutorial while also doing an experiment. So maybe there should be a distinction.\n",
    "\n",
    "Another thought I had was to split up the sprints into a shared group project sprint in a module, and then a project sprint where people got to work on their own scoped project that met their own learning objectives. This could be the difference between assigned projects, assigned concepts, and then perhaps group assigned mini projects (as in the cohort decides what they need to learn more about and how do divide up the mini-project exploration together).\n",
    "\n",
    "Then there might be a separate section (maybe the second half of the class that is more like the original sprint projects we were attempting to do. We get into more depth in portfolio projects, figure out how to polish, and perhaps spend a little more time on them.\n",
    "\n",
    "Sequence would be \n",
    "- Group Exploratory Data Analysis\n",
    "- Assigned Data Project\n",
    "- Group Organized Concept Exploration - miniprojects (scrum)\n",
    "- Full Project (either now or in a separate part of the sprint) - this is tied into professional objectives and/or -personal learning objectives."
   ]
  },
  {
   "cell_type": "code",
   "execution_count": null,
   "metadata": {
    "collapsed": true
   },
   "outputs": [],
   "source": []
  }
 ],
 "metadata": {
  "kernelspec": {
   "display_name": "Python 3",
   "language": "python",
   "name": "python3"
  },
  "language_info": {
   "codemirror_mode": {
    "name": "ipython",
    "version": 3
   },
   "file_extension": ".py",
   "mimetype": "text/x-python",
   "name": "python",
   "nbconvert_exporter": "python",
   "pygments_lexer": "ipython3",
   "version": "3.6.1"
  }
 },
 "nbformat": 4,
 "nbformat_minor": 2
}
