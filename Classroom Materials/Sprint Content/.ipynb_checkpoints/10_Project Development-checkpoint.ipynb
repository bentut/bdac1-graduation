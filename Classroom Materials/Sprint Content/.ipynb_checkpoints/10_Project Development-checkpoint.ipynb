{
 "cells": [
  {
   "cell_type": "markdown",
   "metadata": {},
   "source": [
    "# Sprint 10 Project Seletion"
   ]
  },
  {
   "cell_type": "markdown",
   "metadata": {},
   "source": [
    "### Getting the Portfolio Going \n",
    "\n",
    "The objective of this process is to develop a project that meets the following goals\n",
    "- requires collaboration\n",
    "- produces portfolio opportunities\n",
    "- provides an opportunity to master skills that we have been introduced to"
   ]
  },
  {
   "cell_type": "markdown",
   "metadata": {},
   "source": [
    "### Picking a Project\n",
    "\n",
    "We have a variety of skills we want to demonstrate, several datasets we've encountered. How do we arrive at a project that will accomplish the goals above? \n",
    "\n",
    "Let's try the following process."
   ]
  },
  {
   "cell_type": "markdown",
   "metadata": {},
   "source": [
    "### 1.) A Question\n",
    "\n",
    "We know Data analysis starts with asking good questions. What would make a good question in this case? \n",
    "- Something we're actually curious about\n",
    "- Something that is useful to somebody\n",
    "- Something that there is data for\n",
    "- Something that data can answer\n",
    "\n",
    "Let's explore those questions and evaluate them based on these criteria and any others we can come up with."
   ]
  },
  {
   "cell_type": "markdown",
   "metadata": {},
   "source": [
    "### 2.) Analyzing the question\n",
    "\n",
    "- What is the logical sequence that we would use to answer it?\n",
    "- What data need to be available?\n",
    "- What techniques would we apply to the data?\n",
    "- Are there different ways to answer the question? Should we pursue multiple paths and compare?"
   ]
  },
  {
   "cell_type": "markdown",
   "metadata": {},
   "source": [
    "### 3.) Searching for Data\n",
    "- What is the inventory of data we need to find?\n",
    "- What are the possible sources?\n",
    "- What are the possible search methods?"
   ]
  },
  {
   "cell_type": "markdown",
   "metadata": {},
   "source": [
    "### 4.) EDA\n",
    "- What is the data we have collected like?\n",
    "- What does it have that we were looking for?\n",
    "- What does it not have? \n",
    "- What additional information does it provide?"
   ]
  },
  {
   "cell_type": "markdown",
   "metadata": {},
   "source": [
    "### 5.) Revisiting the Question and Revising Scope\n",
    "- Is our question still valid?\n",
    "- Can we answer it with the data we have found?\n",
    "- Can we apply the technique as we expected?\n",
    "- Is there a different, more interesting question we can answer?"
   ]
  },
  {
   "cell_type": "markdown",
   "metadata": {},
   "source": [
    "### 6.) Modeling and Performing Analysis\n",
    "- Did our modeling process work as expected?\n",
    "- Did we answer the question?\n",
    "- Did the results indicate that we are missing data, or that we need another technique?\n",
    "- Do we need to go back to a previous step to answer the question?"
   ]
  },
  {
   "cell_type": "markdown",
   "metadata": {},
   "source": [
    "### 7.) Answering the Question\n",
    "- Do we understand the answer to the original question we set out to find?\n",
    "- Is our process reproducible?\n",
    "- Can we explain our logic?\n",
    "- Are we satisfied with what we have learned?\n",
    "- Can we document the process for future reference?"
   ]
  },
  {
   "cell_type": "markdown",
   "metadata": {},
   "source": [
    "### 8.) Communicating the insight.\n",
    "- Can this insight be shared with someone else?\n",
    "- What would they need to understand the analysis?\n",
    "- What context do they have?\n",
    "- Are the findings clear?\n",
    "- Is this published somewhere I can share it?"
   ]
  },
  {
   "cell_type": "markdown",
   "metadata": {},
   "source": [
    "### 9.) Putting the insight into action\n",
    "- What should happen with this insight now that it is known?\n",
    "- What can this insight accomplish, or help accomplish?\n",
    "- How do I integrate this into an organization/application/website/product?"
   ]
  },
  {
   "cell_type": "markdown",
   "metadata": {},
   "source": [
    "sample(1:10)"
   ]
  }
 ],
 "metadata": {
  "kernelspec": {
   "display_name": "R",
   "language": "R",
   "name": "ir"
  },
  "language_info": {
   "codemirror_mode": "r",
   "file_extension": ".r",
   "mimetype": "text/x-r-source",
   "name": "R",
   "pygments_lexer": "r",
   "version": "3.4.1"
  }
 },
 "nbformat": 4,
 "nbformat_minor": 2
}
