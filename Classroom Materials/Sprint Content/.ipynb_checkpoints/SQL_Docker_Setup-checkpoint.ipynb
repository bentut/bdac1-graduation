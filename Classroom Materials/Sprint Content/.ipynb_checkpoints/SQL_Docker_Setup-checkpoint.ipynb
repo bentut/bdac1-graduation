{
 "cells": [
  {
   "cell_type": "markdown",
   "metadata": {},
   "source": [
    "# Bring up MySQL with Test Data using Docker\n",
    "\n",
    "This notebook is intended for anyone who wants to create an environment to experiment with SQL. It creates a running instance of mysql server in a docker container that you can connect to. \n",
    "\n",
    "It is designed for a mac terminal environment.\n",
    "\n",
    "NOTE: It leaves the docker instance running permanently, so if and when you want it to go away, you will need to kill the docker process"
   ]
  },
  {
   "cell_type": "markdown",
   "metadata": {},
   "source": [
    "## Step 1: Download Docker\n",
    "\n",
    "Here is a link to download and install docker for Mac\n",
    "https://docs.docker.com/v17.09/docker-for-mac/install/"
   ]
  },
  {
   "cell_type": "markdown",
   "metadata": {},
   "source": [
    "## Step 2: Download the Sample data\n",
    "\n",
    "Mysql has a sample dataset. We will use the sakila rental store part of it. The github repo is here. You can clone it onto your local computer"
   ]
  },
  {
   "cell_type": "raw",
   "metadata": {},
   "source": [
    "> mkdir bdac1-sql\n",
    "> cd bdac1-sql\n",
    "> git clone https://github.com/datacharmer/test_db.git\n",
    "> cd bdac1-sql/test_db/sakila"
   ]
  },
  {
   "cell_type": "markdown",
   "metadata": {},
   "source": [
    "## Step 3: Start up a mysql container\n",
    "\n",
    "You can change around the parameters, for example, --name and the root password."
   ]
  },
  {
   "cell_type": "raw",
   "metadata": {},
   "source": [
    "> docker run --name bdac1-mysql -e MYSQL_ROOT_PASSWORD=root -d mysql:latest"
   ]
  },
  {
   "cell_type": "markdown",
   "metadata": {},
   "source": [
    "This should set off a bunch of downloads and installations. At the end, you should get another terminal prompt. From there you can check the running docker containers"
   ]
  },
  {
   "cell_type": "raw",
   "metadata": {},
   "source": [
    "> docker ps -a"
   ]
  },
  {
   "cell_type": "markdown",
   "metadata": {},
   "source": [
    "You should see a container running in this view. It should be called bdac1-mysql"
   ]
  },
  {
   "cell_type": "markdown",
   "metadata": {},
   "source": [
    "## Step 4: Send commands to your container \n",
    "These commands will load the data file from your local machine into your docker container. Make sure you're in the directory that has those two files."
   ]
  },
  {
   "cell_type": "raw",
   "metadata": {},
   "source": [
    "docker exec -i bdac1-mysql mysql -uroot -proot < sakila-mv-schema.sql\n",
    "docker exec -i bdac1-mysql mysql -uroot -proot < sakila-mv-data.sql"
   ]
  },
  {
   "cell_type": "markdown",
   "metadata": {},
   "source": [
    "## Step 5: Log into your SQL database and query away!\n",
    "\n",
    "Execute the last command to get in and you're in! Use the database you just created and to exit, just hit exit"
   ]
  },
  {
   "cell_type": "raw",
   "metadata": {},
   "source": [
    "docker exec -it bdac1-mysql mysql -uroot -proot sakila"
   ]
  },
  {
   "cell_type": "raw",
   "metadata": {},
   "source": [
    "# Now in MySQL\n",
    "SHOW tables;\n",
    "\n",
    "SELECT * FROM films;\n",
    "\n",
    "SELECT COUNT(*) FROM language;\n",
    "\n",
    "exit"
   ]
  },
  {
   "cell_type": "markdown",
   "metadata": {},
   "source": [
    "## Epilogue\n",
    "\n",
    "You will now have a docker container running that you can always connect to with the line above by sending the mysql command to your container to get in. If you want to kill the container you can do so with \"docker kill bdac1-mysql\" if you want to remove it from your list you can do that with \"docker rm bdac1-mysql\" "
   ]
  }
 ],
 "metadata": {
  "kernelspec": {
   "display_name": "R",
   "language": "R",
   "name": "ir"
  },
  "language_info": {
   "codemirror_mode": "r",
   "file_extension": ".r",
   "mimetype": "text/x-r-source",
   "name": "R",
   "pygments_lexer": "r",
   "version": "3.4.1"
  }
 },
 "nbformat": 4,
 "nbformat_minor": 2
}
