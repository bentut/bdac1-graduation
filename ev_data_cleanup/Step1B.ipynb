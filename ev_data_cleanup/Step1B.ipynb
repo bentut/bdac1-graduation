{
 "cells": [
  {
   "cell_type": "markdown",
   "metadata": {},
   "source": [
    "## Fixing Latitude and Longitude for EVApp\n",
    "In the below code we will be fixing the Latitude and Longitude in the EVApp data set so that it matches the Latitude and Longitude in the Chargepoint data. This will make the process of eventually putting the two data sets together more streamline. "
   ]
  },
  {
   "cell_type": "code",
   "execution_count": 1,
   "metadata": {},
   "outputs": [
    {
     "name": "stderr",
     "output_type": "stream",
     "text": [
      "Loading required package: ggplot2\n",
      "Loading required package: sp\n",
      "### Welcome to rworldmap ###\n",
      "For a short introduction type : \t vignette('rworldmap')\n",
      "\n",
      "Attaching package: ‘dplyr’\n",
      "\n",
      "The following objects are masked from ‘package:stats’:\n",
      "\n",
      "    filter, lag\n",
      "\n",
      "The following objects are masked from ‘package:base’:\n",
      "\n",
      "    intersect, setdiff, setequal, union\n",
      "\n"
     ]
    }
   ],
   "source": [
    "# Below we are loading libraries into the notebook. \n",
    "# This step makes it so some of the code we write work! - You wont ever need to touch this code.\n",
    "library(ggmap)\n",
    "library(rworldmap)\n",
    "library(dplyr)"
   ]
  },
  {
   "cell_type": "code",
   "execution_count": 2,
   "metadata": {},
   "outputs": [],
   "source": [
    "EVApp <- read.csv(\"EVApp.csv\")"
   ]
  },
  {
   "cell_type": "markdown",
   "metadata": {},
   "source": [
    "### Latitude Manipulation\n",
    "In this first section we will be working with the Latitude column. \n",
    "###### Right now the latitude is in Degrees, Minutes and Seconds (DMS) *ie: 21° 17' 21.7428'' N*\n",
    "###### We want it to be in decimal format *ie: 21.289373* \n",
    "The below code converts it from DMS to Decimal"
   ]
  },
  {
   "cell_type": "code",
   "execution_count": 3,
   "metadata": {},
   "outputs": [],
   "source": [
    "#Working with EVApp data\n",
    "#creating latitide and longitute data frame for comparison \n",
    "# pull just lat long columns \n",
    "latlong = subset(EVApp, select=c(\"Latitude\", \"Longitude\"))\n",
    "#Saving latitude to Lat\n",
    "lat <- EVApp$Latitude\n",
    "#getting rid of degrees and replacing with a space.\n",
    "latdeg <- gsub(\"°\", \" \", lat)\n",
    "#getting rid of minutes and replacing with a space\n",
    "latmin <- gsub('′', \" \", latdeg)\n",
    "#getting rid of seconds and replacing with a space.\n",
    "latsec <- gsub('″', \"\", latmin)\n",
    "#getting rid of north latitude and replacing with a space. \n",
    "latchar <- gsub(' N', \"\", latsec)\n",
    "latDMS = sapply(strsplit(latchar, \" \"), as.numeric)\n",
    "#behold the new Lat! \n",
    "NewLat <- abs(latDMS[1, ]) + latDMS[2, ]/60 + latDMS[3, ]/3600\n",
    "#inserting the the newlat to latlong for comparison\n",
    "latlong <- (cbind(latlong, NewLat))"
   ]
  },
  {
   "cell_type": "markdown",
   "metadata": {},
   "source": [
    "### Longitude Manipulation\n",
    "In this first section we will be working with the Longitude column. \n",
    "###### Right now the Longitude is in Degrees, Minutes and Seconds (DMS) *ie: 157° 55' 2.9280'' W*\n",
    "###### We want it to be in a decimal format *ie: -157.917480* \n",
    "The below code converts it from DMS to Decimal"
   ]
  },
  {
   "cell_type": "code",
   "execution_count": 4,
   "metadata": {},
   "outputs": [],
   "source": [
    "long <- EVApp$Longitude\n",
    "#getting rid of degrees and replacing with a space.\n",
    "longdeg <- gsub(\"°\", \" \", long)\n",
    "#getting rid of minutes and replacing with a space.\n",
    "longmin <- gsub('′', \" \", longdeg)\n",
    "#getting rid of seconds and replacing with a space.\n",
    "longsec <- gsub('″', \"\", longmin)\n",
    "#getting rid of S latitude and replacing with a space.\n",
    "longchar <- gsub(' S', \"\", longsec)\n",
    "#making the numbers number.\n",
    "longDMS = sapply(strsplit(longchar, \" \"), as.numeric)\n",
    "# making the new longitude and adding the -1 which signifys \"S\" (north is positive)\n",
    "NewLong <- (abs(longDMS[1, ]) + longDMS[2, ]/60 + longDMS[3, ]/3600)*(-1)\n",
    "# inserting the newlong into latlong for comparison\n",
    "latlong <- (cbind(latlong, NewLong))\n",
    "#taking out original Latitude and Longitude\n",
    "latlong = subset(latlong, select = -c(Latitude, Longitude))\n",
    "#Cbinding latlong onto the original EVAPP data!\n",
    "EVApp <- (cbind(EVApp, latlong))"
   ]
  },
  {
   "cell_type": "markdown",
   "metadata": {},
   "source": [
    "## WALLAH! \n",
    "Now the newly converted columns will be in decimal format columns and we will do a write (SAVE AS) to a file called \"Geocoded_EVApp\""
   ]
  },
  {
   "cell_type": "code",
   "execution_count": 5,
   "metadata": {},
   "outputs": [],
   "source": [
    "write.csv(EVApp, \"Geocoded_EVApp.csv\", row.names=FALSE)"
   ]
  }
 ],
 "metadata": {
  "kernelspec": {
   "display_name": "R",
   "language": "R",
   "name": "ir"
  },
  "language_info": {
   "codemirror_mode": "r",
   "file_extension": ".r",
   "mimetype": "text/x-r-source",
   "name": "R",
   "pygments_lexer": "r",
   "version": "3.4.1"
  }
 },
 "nbformat": 4,
 "nbformat_minor": 2
}
