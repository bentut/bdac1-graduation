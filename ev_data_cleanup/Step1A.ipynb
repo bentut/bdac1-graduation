{
 "cells": [
  {
   "cell_type": "markdown",
   "metadata": {},
   "source": [
    "## Turning Addresses into Latitude and Longitude in Chargepoint\n",
    "In this Notebook we will be working with the Chargepoint data set. Right now the Chargepoint data only has the addresses of the stations, however, we want the latitudes and longitudes too. The following code takes the addresses column and uses google to make a new column with latitude and longitude."
   ]
  },
  {
   "cell_type": "markdown",
   "metadata": {},
   "source": [
    "Below we are loading libraries into the notebook. This step makes it so some of the code we write will work! - You wont ever need to touch this code."
   ]
  },
  {
   "cell_type": "code",
   "execution_count": 1,
   "metadata": {},
   "outputs": [
    {
     "name": "stderr",
     "output_type": "stream",
     "text": [
      "Loading required package: ggplot2\n",
      "Loading required package: sp\n",
      "### Welcome to rworldmap ###\n",
      "For a short introduction type : \t vignette('rworldmap')\n",
      "\n",
      "Attaching package: ‘dplyr’\n",
      "\n",
      "The following objects are masked from ‘package:stats’:\n",
      "\n",
      "    filter, lag\n",
      "\n",
      "The following objects are masked from ‘package:base’:\n",
      "\n",
      "    intersect, setdiff, setequal, union\n",
      "\n"
     ]
    }
   ],
   "source": [
    "library(ggmap)\n",
    "library(rworldmap)\n",
    "library(dplyr)"
   ]
  },
  {
   "cell_type": "code",
   "execution_count": 2,
   "metadata": {},
   "outputs": [],
   "source": [
    "Chargepoint <- read.csv(\"Chargepoint.csv\", stringsAsFactors = FALSE)"
   ]
  },
  {
   "cell_type": "markdown",
   "metadata": {},
   "source": [
    "## Manipulating the Addresses column"
   ]
  },
  {
   "cell_type": "markdown",
   "metadata": {},
   "source": [
    "We are going to use a program that takes the addresses in the dataset and turns it into latitude and longitudes. The program we are using requires us to have the address line in one column; right now it is in three.\n",
    "##### *Current Format:* |1650 Ala Moana Blvd|Honolulu|Hawaii|\n",
    "##### *We Want it to be:* |1650 Ala Moana Blvd, Honolulu, Hawaii|"
   ]
  },
  {
   "cell_type": "code",
   "execution_count": 3,
   "metadata": {},
   "outputs": [],
   "source": [
    "# To break down the code below: We are pasting together three columns (Address.1, City, State) \n",
    "#in the Chargepoint data, separating them by a comma (sep = \",\") and saving them into a new dataset \n",
    "#called \"addresses\"\n",
    "addresses <- paste(Chargepoint$Address.1, Chargepoint$City, Chargepoint$State, sep = \",\")"
   ]
  },
  {
   "cell_type": "markdown",
   "metadata": {},
   "source": [
    "Below we are putting the \"addresses\" dataset back onto the Chargepoint data set, which is kind of like adding a new column called \"addresses\" to the Chargepoint data."
   ]
  },
  {
   "cell_type": "code",
   "execution_count": 4,
   "metadata": {},
   "outputs": [],
   "source": [
    "Chargepoint <- (cbind(Chargepoint, addresses))\n",
    "Chargepoint$lon <- NA\n",
    "Chargepoint$lat <- NA"
   ]
  },
  {
   "cell_type": "markdown",
   "metadata": {},
   "source": [
    "In the below code we are filtering out the addresses that occur more than once. We are doing this because sometimes the program that uses the addresses gets confused looking at the same address multiple times. So for now we are taking it out, we will eventually put it back in!"
   ]
  },
  {
   "cell_type": "code",
   "execution_count": 5,
   "metadata": {},
   "outputs": [],
   "source": [
    "geocoded <- data.frame(stringsAsFactors = FALSE)\n",
    "# getting uniques in the Chargepoint_address so maybe it wont error\n",
    "CP_address_unq <- distinct(Chargepoint, Address.1, Station.Name, addresses, .keep_all = TRUE)\n",
    "#turning addresses from integer to character\n",
    "CP_address_unq$addresses <- as.character(CP_address_unq$addresses)"
   ]
  },
  {
   "cell_type": "markdown",
   "metadata": {},
   "source": [
    "## From Address to Latitude & Longitude\n",
    "The below code it where the magic happens! We send the addresses to google, google generates the latitude and longitude and then puts it in a new column in the dataset."
   ]
  },
  {
   "cell_type": "code",
   "execution_count": 6,
   "metadata": {},
   "outputs": [
    {
     "name": "stderr",
     "output_type": "stream",
     "text": [
      "Information from URL : http://maps.googleapis.com/maps/api/geocode/json?address=2520%20Dole%20St,Honolulu,Hawaii&sensor=false\n",
      "Information from URL : http://maps.googleapis.com/maps/api/geocode/json?address=2520%20Dole%20St,Honolulu,Hawaii&sensor=false\n",
      "Information from URL : http://maps.googleapis.com/maps/api/geocode/json?address=925%20Bethel%20St,Honolulu,Hawaii&sensor=false\n",
      "Information from URL : http://maps.googleapis.com/maps/api/geocode/json?address=1888-1898%20Wili%20Pa%20Loop,Wailuku,Hawaii&sensor=false\n",
      "Information from URL : http://maps.googleapis.com/maps/api/geocode/json?address=94-815%20Lumiaina%20St,Waipahu,Hawaii&sensor=false\n",
      "Information from URL : http://maps.googleapis.com/maps/api/geocode/json?address=459%20Patterson%20Rd,Honolulu,Hawaii&sensor=false\n",
      "Information from URL : http://maps.googleapis.com/maps/api/geocode/json?address=459%20Patterson%20Rd,Honolulu,Hawaii&sensor=false\n",
      "Information from URL : http://maps.googleapis.com/maps/api/geocode/json?address=459%20Patterson%20Rd,Honolulu,Hawaii&sensor=false\n",
      "Information from URL : http://maps.googleapis.com/maps/api/geocode/json?address=Wahinepio%20Ave,Kahului,Hawaii&sensor=false\n",
      "Information from URL : http://maps.googleapis.com/maps/api/geocode/json?address=Wahinepio%20Ave,Kahului,Hawaii&sensor=false\n",
      ".Information from URL : http://maps.googleapis.com/maps/api/geocode/json?address=Wahinepio%20Ave,Kahului,Hawaii&sensor=false\n",
      ".Information from URL : http://maps.googleapis.com/maps/api/geocode/json?address=Wahinepio%20Ave,Kahului,Hawaii&sensor=false\n",
      ".Information from URL : http://maps.googleapis.com/maps/api/geocode/json?address=600%20Ala%20Moana%20Blvd,Honolulu,Hawaii&sensor=false\n",
      ".Information from URL : http://maps.googleapis.com/maps/api/geocode/json?address=600%20Ala%20Moana%20Blvd,Honolulu,Hawaii&sensor=false\n",
      "Warning message:\n",
      "“geocode failed with status OVER_QUERY_LIMIT, location = \"600 Ala Moana Blvd,Honolulu,Hawaii\"”.Information from URL : http://maps.googleapis.com/maps/api/geocode/json?address=74-5453%20Makala%20Blvd,Kailua-Kona,Hawaii&sensor=false\n",
      ".Information from URL : http://maps.googleapis.com/maps/api/geocode/json?address=74-5455%20Makala%20Blvd,Kailua-Kona,Hawaii&sensor=false\n",
      "Warning message:\n",
      "“geocode failed with status OVER_QUERY_LIMIT, location = \"74-5455 Makala Blvd,Kailua-Kona,Hawaii\"”.Information from URL : http://maps.googleapis.com/maps/api/geocode/json?address=4450%20Kapolei%20Pkwy,Kapolei,Hawaii&sensor=false\n",
      "Information from URL : http://maps.googleapis.com/maps/api/geocode/json?address=4450%20Kapolei%20Pkwy,Kapolei,Hawaii&sensor=false\n",
      "Information from URL : http://maps.googleapis.com/maps/api/geocode/json?address=345%20Hahani%20St,Kailua,Hawaii&sensor=false\n",
      "Information from URL : http://maps.googleapis.com/maps/api/geocode/json?address=345%20Hahani%20St,Kailua,Hawaii&sensor=false\n",
      ".Information from URL : http://maps.googleapis.com/maps/api/geocode/json?address=100%20Ho'okele%20St,Kahului,Hawaii&sensor=false\n",
      "Information from URL : http://maps.googleapis.com/maps/api/geocode/json?address=100%20Ho'okele%20St,Kahului,Hawaii&sensor=false\n",
      "Warning message:\n",
      "“geocode failed with status OVER_QUERY_LIMIT, location = \"100 Ho'okele St,Kahului,Hawaii\"”.Information from URL : http://maps.googleapis.com/maps/api/geocode/json?address=4332%20Lawehana%20St,Honolulu,Hawaii&sensor=false\n",
      "Warning message:\n",
      "“geocode failed with status OVER_QUERY_LIMIT, location = \"4332 Lawehana St,Honolulu,Hawaii\"”.Information from URL : http://maps.googleapis.com/maps/api/geocode/json?address=4380%20Lawehana%20St,Honolulu,Hawaii&sensor=false\n",
      ".Information from URL : http://maps.googleapis.com/maps/api/geocode/json?address=391%20Makaala%20St,Hilo,Hawaii&sensor=false\n",
      ".Information from URL : http://maps.googleapis.com/maps/api/geocode/json?address=391%20Makaala%20St,Hilo,Hawaii&sensor=false\n",
      ".Information from URL : http://maps.googleapis.com/maps/api/geocode/json?address=1189%20Waimanu%20St,Honolulu,Hawaii&sensor=false\n",
      ".Information from URL : http://maps.googleapis.com/maps/api/geocode/json?address=1189%20Waimanu%20St,Honolulu,Hawaii&sensor=false\n",
      "Information from URL : http://maps.googleapis.com/maps/api/geocode/json?address=1189%20Waimanu%20St,Honolulu,Hawaii&sensor=false\n",
      "Information from URL : http://maps.googleapis.com/maps/api/geocode/json?address=1189%20Waimanu%20St,Honolulu,Hawaii&sensor=false\n",
      ".Information from URL : http://maps.googleapis.com/maps/api/geocode/json?address=93-339%20HI-750,Waipahu,Hawaii&sensor=false\n",
      "Information from URL : http://maps.googleapis.com/maps/api/geocode/json?address=1119-1123%204th%20Ave,Honolulu,Hawaii&sensor=false\n",
      ".Information from URL : http://maps.googleapis.com/maps/api/geocode/json?address=73-200%20Kupipi%20St,Kailua-Kona,Hawaii&sensor=false\n",
      "Information from URL : http://maps.googleapis.com/maps/api/geocode/json?address=581%20Kamoku%20St,Honolulu,Hawaii&sensor=false\n",
      ".Information from URL : http://maps.googleapis.com/maps/api/geocode/json?address=2139%20Kuhio%20Ave,Honolulu,Hawaii&sensor=false\n",
      ".Information from URL : http://maps.googleapis.com/maps/api/geocode/json?address=2139%20Kuhio%20Ave,Honolulu,Hawaii&sensor=false\n",
      ".Information from URL : http://maps.googleapis.com/maps/api/geocode/json?address=575%20Cooke%20St,Honolulu,Hawaii&sensor=false\n",
      ".Information from URL : http://maps.googleapis.com/maps/api/geocode/json?address=55-370%20Kamehameha%20Hwy,Laie,Hawaii&sensor=false\n",
      "Information from URL : http://maps.googleapis.com/maps/api/geocode/json?address=55-370%20Kamehameha%20Hwy,Laie,Hawaii&sensor=false\n",
      "Information from URL : http://maps.googleapis.com/maps/api/geocode/json?address=349-365%20Piikoi%20St,Honolulu,Hawaii&sensor=false\n",
      "Information from URL : http://maps.googleapis.com/maps/api/geocode/json?address=301-347%20Piikoi%20St,Honolulu,Hawaii&sensor=false\n",
      "Information from URL : http://maps.googleapis.com/maps/api/geocode/json?address=1320-1346%20HI-92,Honolulu,Hawaii&sensor=false\n",
      ".Information from URL : http://maps.googleapis.com/maps/api/geocode/json?address=1300-1318%20HI-92,Honolulu,Hawaii&sensor=false\n",
      "Information from URL : http://maps.googleapis.com/maps/api/geocode/json?address=1320-1346%20HI-92,Honolulu,Hawaii&sensor=false\n",
      ".Information from URL : http://maps.googleapis.com/maps/api/geocode/json?address=1151-1185%20Waianuenue%20Ave,Hilo,Hawaii&sensor=false\n",
      ".Information from URL : http://maps.googleapis.com/maps/api/geocode/json?address=888%20S%20King%20St,Honolulu,Hawaii&sensor=false\n",
      ".Information from URL : http://maps.googleapis.com/maps/api/geocode/json?address=98-1079%20Moanalua%20Rd,Aiea,Hawaii&sensor=false\n",
      ".Information from URL : http://maps.googleapis.com/maps/api/geocode/json?address=98-1079%20Moanalua%20Rd,Aiea,Hawaii&sensor=false\n",
      ".Information from URL : http://maps.googleapis.com/maps/api/geocode/json?address=1801%20Kalakaua%20Ave,Honolulu,Hawaii&sensor=false\n",
      "Information from URL : http://maps.googleapis.com/maps/api/geocode/json?address=35%20Russell%20Ave,JBPHH,Hawaii&sensor=false\n",
      "Information from URL : http://maps.googleapis.com/maps/api/geocode/json?address=35%20Russell%20Ave,JBPHH,Hawaii&sensor=false\n",
      "Information from URL : http://maps.googleapis.com/maps/api/geocode/json?address=35%20Russell%20Ave,JBPHH,Hawaii&sensor=false\n",
      ".Information from URL : http://maps.googleapis.com/maps/api/geocode/json?address=35%20Russell%20Ave,JBPHH,Hawaii&sensor=false\n",
      "Information from URL : http://maps.googleapis.com/maps/api/geocode/json?address=35%20Russell%20Ave,JBPHH,Hawaii&sensor=false\n",
      ".Information from URL : http://maps.googleapis.com/maps/api/geocode/json?address=Bldg%20166%20South%20Ave,Pearl%20Harbor,Hawaii&sensor=false\n",
      ".Information from URL : http://maps.googleapis.com/maps/api/geocode/json?address=100%20Nohea%20Kai%20Dr,Lahaina,Hawaii&sensor=false\n",
      ".Information from URL : http://maps.googleapis.com/maps/api/geocode/json?address=W%20Kamehameha%20Ave,Kahului,Hawaii&sensor=false\n",
      ".Information from URL : http://maps.googleapis.com/maps/api/geocode/json?address=210%20W%20Kamehameha%20Ave,Kahului,Hawaii&sensor=false\n",
      ".Information from URL : http://maps.googleapis.com/maps/api/geocode/json?address=1260%20Kuala%20St,Pearl%20City,Hawaii&sensor=false\n",
      "Information from URL : http://maps.googleapis.com/maps/api/geocode/json?address=1260%20Kuala%20St,Pearl%20City,Hawaii&sensor=false\n",
      "Information from URL : http://maps.googleapis.com/maps/api/geocode/json?address=2776%20Kauhale%20St,Kihei,Hawaii&sensor=false\n",
      "Information from URL : http://maps.googleapis.com/maps/api/geocode/json?address=768%20South%20St,Honolulu,Hawaii&sensor=false\n",
      ".Information from URL : http://maps.googleapis.com/maps/api/geocode/json?address=92-149%20Waipahe%20Pl,Kapolei,Hawaii&sensor=false\n",
      "Information from URL : http://maps.googleapis.com/maps/api/geocode/json?address=92-159%20Waipahe%20Pl,Kapolei,Hawaii&sensor=false\n",
      "Information from URL : http://maps.googleapis.com/maps/api/geocode/json?address=92-149%20Waipahe%20Pl,Kapolei,Hawaii&sensor=false\n",
      ".Information from URL : http://maps.googleapis.com/maps/api/geocode/json?address=570%20Halekauwila%20St,Honolulu,Hawaii&sensor=false\n",
      ".Information from URL : http://maps.googleapis.com/maps/api/geocode/json?address=619-629%20Halekauwila%20St,Honolulu,Hawaii&sensor=false\n",
      ".Information from URL : http://maps.googleapis.com/maps/api/geocode/json?address=619-629%20Halekauwila%20St,Honolulu,Hawaii&sensor=false\n",
      ".Information from URL : http://maps.googleapis.com/maps/api/geocode/json?address=601-617%20Halekauwila%20St,Honolulu,Hawaii&sensor=false\n",
      ".Information from URL : http://maps.googleapis.com/maps/api/geocode/json?address=598%20Halekauwila%20St,Honolulu,Hawaii&sensor=false\n",
      "Information from URL : http://maps.googleapis.com/maps/api/geocode/json?address=601-617%20Halekauwila%20St,Honolulu,Hawaii&sensor=false\n",
      "Information from URL : http://maps.googleapis.com/maps/api/geocode/json?address=761%20Wakea%20St,Kapolei,Hawaii&sensor=false\n",
      ".Information from URL : http://maps.googleapis.com/maps/api/geocode/json?address=Kapolei%20Pkwy,Kapolei,Hawaii&sensor=false\n",
      "Information from URL : http://maps.googleapis.com/maps/api/geocode/json?address=761%20Wakea%20St,Kapolei,Hawaii&sensor=false\n",
      "Information from URL : http://maps.googleapis.com/maps/api/geocode/json?address=761%20Wakea%20St,Kapolei,Hawaii&sensor=false\n",
      "Warning message:\n",
      "“geocode failed with status OVER_QUERY_LIMIT, location = \"761 Wakea St,Kapolei,Hawaii\"”.Information from URL : http://maps.googleapis.com/maps/api/geocode/json?address=761%20Wakea%20St,Kapolei,Hawaii&sensor=false\n",
      "Warning message:\n",
      "“geocode failed with status OVER_QUERY_LIMIT, location = \"761 Wakea St,Kapolei,Hawaii\"”.Information from URL : http://maps.googleapis.com/maps/api/geocode/json?address=761%20Wakea%20St,Kapolei,Hawaii&sensor=false\n",
      ".Information from URL : http://maps.googleapis.com/maps/api/geocode/json?address=761%20Wakea%20St,Kapolei,Hawaii&sensor=false\n",
      ".Information from URL : http://maps.googleapis.com/maps/api/geocode/json?address=761%20Wakea%20St,Kapolei,Hawaii&sensor=false\n",
      ".Information from URL : http://maps.googleapis.com/maps/api/geocode/json?address=1703%20Bingham%20St,Honolulu,Hawaii&sensor=false\n",
      ".Information from URL : http://maps.googleapis.com/maps/api/geocode/json?address=93%20Kaneohe%20Bay%20Dr,Kailua,Hawaii&sensor=false\n",
      "Information from URL : http://maps.googleapis.com/maps/api/geocode/json?address=2330%20Kalakaua%20Ave,Honolulu,Hawaii&sensor=false\n",
      ".Information from URL : http://maps.googleapis.com/maps/api/geocode/json?address=2330%20Kalakaua%20Ave,Honolulu,Hawaii&sensor=false\n",
      "Information from URL : http://maps.googleapis.com/maps/api/geocode/json?address=2330%20Kalakaua%20Ave,Honolulu,Hawaii&sensor=false\n",
      "Information from URL : http://maps.googleapis.com/maps/api/geocode/json?address=2330%20Kalakaua%20Ave,Honolulu,Hawaii&sensor=false\n",
      ".Information from URL : http://maps.googleapis.com/maps/api/geocode/json?address=200%20Nohea%20Kai%20Dr,Lahaina,Hawaii&sensor=false\n",
      ".Information from URL : http://maps.googleapis.com/maps/api/geocode/json?address=91-971%20Farrington%20Hwy,Kapolei,Hawaii&sensor=false\n",
      "Information from URL : http://maps.googleapis.com/maps/api/geocode/json?address=91-971%20Farrington%20Hwy,Kapolei,Hawaii&sensor=false\n",
      ".Information from URL : http://maps.googleapis.com/maps/api/geocode/json?address=26%20N%20Kukui%20St,Honolulu,Hawaii&sensor=false\n",
      ".Information from URL : http://maps.googleapis.com/maps/api/geocode/json?address=Piikea%20Pl,Makawao,Hawaii&sensor=false\n",
      ".Information from URL : http://maps.googleapis.com/maps/api/geocode/json?address=99-688%20Kaulainahee%20Pl,Aiea,Hawaii&sensor=false\n",
      "Information from URL : http://maps.googleapis.com/maps/api/geocode/json?address=101%20Maluniu%20Ave,Kailua,Hawaii&sensor=false\n",
      ".Information from URL : http://maps.googleapis.com/maps/api/geocode/json?address=1288%20Ala%20Moana%20Blvd,Honolulu,Hawaii&sensor=false\n",
      "Information from URL : http://maps.googleapis.com/maps/api/geocode/json?address=3550%20Wailea%20Alanui%20Dr,Wailea-Makena,Hawaii&sensor=false\n",
      "Information from URL : http://maps.googleapis.com/maps/api/geocode/json?address=3550%20Wailea%20Alanui%20Dr,Wailea-Makena,Hawaii&sensor=false\n",
      "Information from URL : http://maps.googleapis.com/maps/api/geocode/json?address=3550%20Wailea%20Alanui%20Dr,Wailea-Makena,Hawaii&sensor=false\n",
      ".Information from URL : http://maps.googleapis.com/maps/api/geocode/json?address=999%20Bishop%20St,Honolulu,Hawaii&sensor=false\n",
      ".Information from URL : http://maps.googleapis.com/maps/api/geocode/json?address=651%20ILALO%20STREET,Honolulu,Hawaii&sensor=false\n",
      "Information from URL : http://maps.googleapis.com/maps/api/geocode/json?address=46-001%20Kamehameha%20Hwy,Kaneohe,Hawaii&sensor=false\n",
      ".Information from URL : http://maps.googleapis.com/maps/api/geocode/json?address=1001%20Kamokila%20Blvd,Kapolei,Hawaii&sensor=false\n",
      ".Information from URL : http://maps.googleapis.com/maps/api/geocode/json?address=1170%20Nuuanu%20Ave,Honolulu,Hawaii&sensor=false\n",
      "Information from URL : http://maps.googleapis.com/maps/api/geocode/json?address=777%20Ward%20Ave,Honolulu,Hawaii&sensor=false\n",
      ".Information from URL : http://maps.googleapis.com/maps/api/geocode/json?address=650%20S%20King%20St,Honolulu,Hawaii&sensor=false\n",
      "Information from URL : http://maps.googleapis.com/maps/api/geocode/json?address=99-999%20Iwaena%20St,Aiea,Hawaii&sensor=false\n",
      "Information from URL : http://maps.googleapis.com/maps/api/geocode/json?address=1000%20Ulu'Ohi'a%20St,Kapolei,Hawaii&sensor=false\n",
      "Information from URL : http://maps.googleapis.com/maps/api/geocode/json?address=151%20Kapahulu%20Ave,Honolulu,Hawaii&sensor=false\n",
      "Information from URL : http://maps.googleapis.com/maps/api/geocode/json?address=155%20N%20Beretania%20St,Honolulu,Hawaii&sensor=false\n",
      ".Information from URL : http://maps.googleapis.com/maps/api/geocode/json?address=650%20S%20King%20St,Honolulu,Hawaii&sensor=false\n",
      "Information from URL : http://maps.googleapis.com/maps/api/geocode/json?address=1031%20Nuuanu%20Ave,Honolulu,Hawaii&sensor=false\n",
      ".Information from URL : http://maps.googleapis.com/maps/api/geocode/json?address=388%20Kele%20St,Wailuku,Hawaii&sensor=false\n",
      ".Information from URL : http://maps.googleapis.com/maps/api/geocode/json?address=74-5533%20Loloku%20St,Kailua-Kona,Hawaii&sensor=false\n",
      "Information from URL : http://maps.googleapis.com/maps/api/geocode/json?address=825%20Kapiolani%20Blvd,Honolulu,Hawaii&sensor=false\n",
      ".Information from URL : http://maps.googleapis.com/maps/api/geocode/json?address=4850%20Makena%20Alanui%20St,Kihei,Hawaii&sensor=false\n",
      ".Information from URL : http://maps.googleapis.com/maps/api/geocode/json?address=92-1185%20Aliinui%20Drive,Kapolei,Hawaii&sensor=false\n",
      "Information from URL : http://maps.googleapis.com/maps/api/geocode/json?address=92-1185%20Aliinui%20Drive,Kapolei,Hawaii&sensor=false\n",
      "Information from URL : http://maps.googleapis.com/maps/api/geocode/json?address=92-1185%20Aliinui%20Drive,Kapolei,Hawaii&sensor=false\n",
      ".Information from URL : http://maps.googleapis.com/maps/api/geocode/json?address=92-185%20Aliinui%20Drive,Kapolei,Hawaii&sensor=false\n",
      ".Information from URL : http://maps.googleapis.com/maps/api/geocode/json?address=92-1185%20Aliinui%20Drive,Kapolei,Hawaii&sensor=false\n",
      "Information from URL : http://maps.googleapis.com/maps/api/geocode/json?address=92-1185%20Aliinui%20Drive,Kapolei,Hawaii&sensor=false\n",
      ".Information from URL : http://maps.googleapis.com/maps/api/geocode/json?address=92-1185%20Aliinui%20Drive,Kapolei,Hawaii&sensor=false\n",
      ".Information from URL : http://maps.googleapis.com/maps/api/geocode/json?address=92-1185%20Aliinui%20Drive,Kapolei,Hawaii&sensor=false\n",
      ".Information from URL : http://maps.googleapis.com/maps/api/geocode/json?address=92-1185%20Aliinui%20Drive,Kapolei,Hawaii&sensor=false\n",
      ".Information from URL : http://maps.googleapis.com/maps/api/geocode/json?address=92-1185%20Aliinui%20Drive,Kapolei,Hawaii&sensor=false\n",
      ".Information from URL : http://maps.googleapis.com/maps/api/geocode/json?address=92-1185%20Aliinui%20Drive,Kapolei,Hawaii&sensor=false\n",
      ".Information from URL : http://maps.googleapis.com/maps/api/geocode/json?address=92-1185%20Aliinui%20Drive,Kapolei,Hawaii&sensor=false\n",
      ".Information from URL : http://maps.googleapis.com/maps/api/geocode/json?address=92-1185%20Aliinui%20Drive,Kapolei,Hawaii&sensor=false\n",
      "Information from URL : http://maps.googleapis.com/maps/api/geocode/json?address=92-1185%20Aliinui%20Drive,Kapolei,Hawaii&sensor=false\n",
      ".Information from URL : http://maps.googleapis.com/maps/api/geocode/json?address=92-1185%20Aliinui%20Drive,Kapolei,Hawaii&sensor=false\n",
      ".Information from URL : http://maps.googleapis.com/maps/api/geocode/json?address=92-1185%20Aliinui%20Drive,Kapolei,Hawaii&sensor=false\n",
      ".Information from URL : http://maps.googleapis.com/maps/api/geocode/json?address=92-1185%20Aliinui%20Drive,Kapolei,Hawaii&sensor=false\n",
      ".Information from URL : http://maps.googleapis.com/maps/api/geocode/json?address=92-1185%20Aliinui%20Drive,Kapolei,Hawaii&sensor=false\n",
      ".Information from URL : http://maps.googleapis.com/maps/api/geocode/json?address=92-1185%20Aliinui%20Drive,Kapolei,Hawaii&sensor=false\n",
      ".Information from URL : http://maps.googleapis.com/maps/api/geocode/json?address=92-1185%20Aliinui%20Drive,Kapolei,Hawaii&sensor=false\n",
      ".Information from URL : http://maps.googleapis.com/maps/api/geocode/json?address=92-1185%20Aliinui%20Drive,Kapolei,Hawaii&sensor=false\n",
      ".Information from URL : http://maps.googleapis.com/maps/api/geocode/json?address=92-1185%20Aliinui%20Drive,Kapolei,Hawaii&sensor=false\n",
      ".Information from URL : http://maps.googleapis.com/maps/api/geocode/json?address=92-1185%20Aliinui%20Drive,Kapolei,Hawaii&sensor=false\n",
      "Information from URL : http://maps.googleapis.com/maps/api/geocode/json?address=92-1185%20Aliinui%20Drive,Kapolei,Hawaii&sensor=false\n",
      ".Information from URL : http://maps.googleapis.com/maps/api/geocode/json?address=92-1185%20Aliinui%20Drive,Kapolei,Hawaii&sensor=false\n",
      ".Information from URL : http://maps.googleapis.com/maps/api/geocode/json?address=617%20Ohekani%20St,Kahului,Hawaii&sensor=false\n",
      ".Information from URL : http://maps.googleapis.com/maps/api/geocode/json?address=3375%20Koapaka%20St,Honolulu,Hawaii&sensor=false\n",
      "Information from URL : http://maps.googleapis.com/maps/api/geocode/json?address=803%20Ahua%20St,Honolulu,Hawaii&sensor=false\n",
      "Information from URL : http://maps.googleapis.com/maps/api/geocode/json?address=803%20Ahua%20St,Honolulu,Hawaii&sensor=false\n",
      ".Information from URL : http://maps.googleapis.com/maps/api/geocode/json?address=801%20south%20st,Honolulu,Hawaii&sensor=false\n",
      ".Information from URL : http://maps.googleapis.com/maps/api/geocode/json?address=801%20South%20St,Honolulu,Hawaii&sensor=false\n",
      "Information from URL : http://maps.googleapis.com/maps/api/geocode/json?address=7000%20Hawaii%20Kai%20Dr,Honolulu,Hawaii&sensor=false\n",
      ".Information from URL : http://maps.googleapis.com/maps/api/geocode/json?address=7000%20Hawaii%20Kai%20Dr,Honolulu,Hawaii&sensor=false\n",
      "Information from URL : http://maps.googleapis.com/maps/api/geocode/json?address=3970%20Kaana%20St,L?hu?e,Hawaii&sensor=false\n",
      "Information from URL : http://maps.googleapis.com/maps/api/geocode/json?address=1234%20S.%20Beretania%20St,Honolulu,Hawaii&sensor=false\n",
      ".Information from URL : http://maps.googleapis.com/maps/api/geocode/json?address=600%20Ala%20Moana%20Blvd,Honolulu,Hawaii&sensor=false\n",
      ".Information from URL : http://maps.googleapis.com/maps/api/geocode/json?address=74-5455%20Makala%20Blvd,Kailua-Kona,Hawaii&sensor=false\n",
      "Information from URL : http://maps.googleapis.com/maps/api/geocode/json?address=100%20Ho'okele%20St,Kahului,Hawaii&sensor=false\n",
      "Information from URL : http://maps.googleapis.com/maps/api/geocode/json?address=4332%20Lawehana%20St,Honolulu,Hawaii&sensor=false\n",
      ".Information from URL : http://maps.googleapis.com/maps/api/geocode/json?address=761%20Wakea%20St,Kapolei,Hawaii&sensor=false\n",
      ".Information from URL : http://maps.googleapis.com/maps/api/geocode/json?address=761%20Wakea%20St,Kapolei,Hawaii&sensor=false\n"
     ]
    }
   ],
   "source": [
    "# Loop through the addresses to get the latitude and longitude of each address and add it to the\n",
    "# origAddress data frame in new columns lat and lon\n",
    "# I had to run it a few times until I stopped getting NA's!\n",
    "while (sum(is.na(CP_address_unq$lon)))\n",
    "{\n",
    "    for(i in 1:nrow(CP_address_unq))\n",
    "    {if (is.na(CP_address_unq$lon[i])){\n",
    "      result <- geocode(CP_address_unq$addresses[i], output = \"latlona\", source = \"google\")\n",
    "      CP_address_unq$lon[i] <- as.numeric(result[1])\n",
    "      CP_address_unq$lat[i] <- as.numeric(result[2])}\n",
    "    }\n",
    "}"
   ]
  },
  {
   "cell_type": "code",
   "execution_count": 7,
   "metadata": {},
   "outputs": [
    {
     "data": {
      "text/html": [
       "0"
      ],
      "text/latex": [
       "0"
      ],
      "text/markdown": [
       "0"
      ],
      "text/plain": [
       "[1] 0"
      ]
     },
     "metadata": {},
     "output_type": "display_data"
    }
   ],
   "source": [
    "sum(is.na(CP_address_unq$lat))"
   ]
  },
  {
   "cell_type": "markdown",
   "metadata": {},
   "source": [
    "- Remember above when we filtered out the addresses that had multiples? Now we are putting them back in!\n",
    "- We are also getting rid of a few columns that we dont need."
   ]
  },
  {
   "cell_type": "code",
   "execution_count": 8,
   "metadata": {},
   "outputs": [
    {
     "name": "stderr",
     "output_type": "stream",
     "text": [
      "Warning message:\n",
      "“Column `addresses` joining factor and character vector, coercing into character vector”"
     ]
    }
   ],
   "source": [
    "#taking out everything except addresses and lat/long\n",
    "Chargepointgeocode = subset(CP_address_unq, select = -c(Postal.Code,County,Country))\n",
    "\n",
    "Charge_point_final <- left_join(Chargepoint,Chargepointgeocode, by = \"addresses\")\n",
    "#View(jointest)"
   ]
  },
  {
   "cell_type": "code",
   "execution_count": 9,
   "metadata": {},
   "outputs": [
    {
     "data": {
      "text/html": [
       "<table>\n",
       "<thead><tr><th scope=col>X.x</th><th scope=col>Station.Name.x</th><th scope=col>Org.Name.x</th><th scope=col>Address.1.x</th><th scope=col>City.x</th><th scope=col>State.x</th><th scope=col>Postal.Code</th><th scope=col>County</th><th scope=col>Country</th><th scope=col>No..of.Ports.x</th><th scope=col>⋯</th><th scope=col>Station.Name.y</th><th scope=col>Org.Name.y</th><th scope=col>Address.1.y</th><th scope=col>City.y</th><th scope=col>State.y</th><th scope=col>No..of.Ports.y</th><th scope=col>Station.Activation.Type.y</th><th scope=col>Customer.Category.y</th><th scope=col>lon.y</th><th scope=col>lat.y</th></tr></thead>\n",
       "<tbody>\n",
       "\t<tr><td>1                               </td><td>ZONE 20 / ZONE 20 #2            </td><td>University of Hawaii at Manoa   </td><td>2520 Dole St                    </td><td>Honolulu                        </td><td>Hawaii                          </td><td>96822                           </td><td>Honolulu County                 </td><td>United States                   </td><td>2                               </td><td>⋯                               </td><td>ZONE 20 / ZONE 20 #2            </td><td>University of Hawaii at Manoa   </td><td>2520 Dole St                    </td><td>Honolulu                        </td><td>Hawaii                          </td><td>2                               </td><td>Public                          </td><td>Education                       </td><td>-157.8175                       </td><td>21.29571                        </td></tr>\n",
       "\t<tr><td>1                               </td><td>ZONE 20 / ZONE 20 #2            </td><td>University of Hawaii at Manoa   </td><td>2520 Dole St                    </td><td>Honolulu                        </td><td>Hawaii                          </td><td>96822                           </td><td>Honolulu County                 </td><td>United States                   </td><td>2                               </td><td>⋯                               </td><td>ZONE 20 / ZONE 20 #1            </td><td>University of Hawaii at Manoa   </td><td>2520 Dole St                    </td><td>Honolulu                        </td><td>Hawaii                          </td><td>2                               </td><td>Public                          </td><td>Education                       </td><td>-157.8175                       </td><td>21.29571                        </td></tr>\n",
       "\t<tr><td>2                               </td><td>ZONE 20 / ZONE 20 #1            </td><td>University of Hawaii at Manoa   </td><td>2520 Dole St                    </td><td>Honolulu                        </td><td>Hawaii                          </td><td>96822                           </td><td>Honolulu County                 </td><td>United States                   </td><td>2                               </td><td>⋯                               </td><td>ZONE 20 / ZONE 20 #2            </td><td>University of Hawaii at Manoa   </td><td>2520 Dole St                    </td><td>Honolulu                        </td><td>Hawaii                          </td><td>2                               </td><td>Public                          </td><td>Education                       </td><td>-157.8175                       </td><td>21.29571                        </td></tr>\n",
       "\t<tr><td>2                               </td><td>ZONE 20 / ZONE 20 #1            </td><td>University of Hawaii at Manoa   </td><td>2520 Dole St                    </td><td>Honolulu                        </td><td>Hawaii                          </td><td>96822                           </td><td>Honolulu County                 </td><td>United States                   </td><td>2                               </td><td>⋯                               </td><td>ZONE 20 / ZONE 20 #1            </td><td>University of Hawaii at Manoa   </td><td>2520 Dole St                    </td><td>Honolulu                        </td><td>Hawaii                          </td><td>2                               </td><td>Public                          </td><td>Education                       </td><td>-157.8175                       </td><td>21.29571                        </td></tr>\n",
       "\t<tr><td>3                               </td><td>WWW.HIEV.US / HIEV  DEMO  001   </td><td>HIEV DEMO UNITS                 </td><td>925 Bethel St                   </td><td>Honolulu                        </td><td>Hawaii                          </td><td>96813                           </td><td>Honolulu County                 </td><td>United States                   </td><td>1                               </td><td>⋯                               </td><td>WWW.HIEV.US / HIEV  DEMO  001   </td><td>HIEV DEMO UNITS                 </td><td>925 Bethel St                   </td><td>Honolulu                        </td><td>Hawaii                          </td><td>1                               </td><td>Public                          </td><td>Demo Unit                       </td><td>-157.8627                       </td><td>21.30978                        </td></tr>\n",
       "\t<tr><td>4                               </td><td>WAILUKU BRANCH / MCFU WAILUKU 1 </td><td>Maui County Federal Credit Union</td><td>1888-1898 Wili Pa Loop          </td><td>Wailuku                         </td><td>Hawaii                          </td><td>96793                           </td><td>Maui County                     </td><td>United States                   </td><td>2                               </td><td>⋯                               </td><td>WAILUKU BRANCH / MCFU WAILUKU 1 </td><td>Maui County Federal Credit Union</td><td>1888-1898 Wili Pa Loop          </td><td>Wailuku                         </td><td>Hawaii                          </td><td>2                               </td><td>Public                          </td><td>Workplace                       </td><td>-156.4995                       </td><td>20.89431                        </td></tr>\n",
       "</tbody>\n",
       "</table>\n"
      ],
      "text/latex": [
       "\\begin{tabular}{r|llllllllllllllllllllllllll}\n",
       " X.x & Station.Name.x & Org.Name.x & Address.1.x & City.x & State.x & Postal.Code & County & Country & No..of.Ports.x & ⋯ & Station.Name.y & Org.Name.y & Address.1.y & City.y & State.y & No..of.Ports.y & Station.Activation.Type.y & Customer.Category.y & lon.y & lat.y\\\\\n",
       "\\hline\n",
       "\t 1                                 & ZONE 20 / ZONE 20 \\#2            & University of Hawaii at Manoa     & 2520 Dole St                      & Honolulu                          & Hawaii                            & 96822                             & Honolulu County                   & United States                     & 2                                 & ⋯                                 & ZONE 20 / ZONE 20 \\#2            & University of Hawaii at Manoa     & 2520 Dole St                      & Honolulu                          & Hawaii                            & 2                                 & Public                            & Education                         & -157.8175                         & 21.29571                         \\\\\n",
       "\t 1                                 & ZONE 20 / ZONE 20 \\#2            & University of Hawaii at Manoa     & 2520 Dole St                      & Honolulu                          & Hawaii                            & 96822                             & Honolulu County                   & United States                     & 2                                 & ⋯                                 & ZONE 20 / ZONE 20 \\#1            & University of Hawaii at Manoa     & 2520 Dole St                      & Honolulu                          & Hawaii                            & 2                                 & Public                            & Education                         & -157.8175                         & 21.29571                         \\\\\n",
       "\t 2                                 & ZONE 20 / ZONE 20 \\#1            & University of Hawaii at Manoa     & 2520 Dole St                      & Honolulu                          & Hawaii                            & 96822                             & Honolulu County                   & United States                     & 2                                 & ⋯                                 & ZONE 20 / ZONE 20 \\#2            & University of Hawaii at Manoa     & 2520 Dole St                      & Honolulu                          & Hawaii                            & 2                                 & Public                            & Education                         & -157.8175                         & 21.29571                         \\\\\n",
       "\t 2                                 & ZONE 20 / ZONE 20 \\#1            & University of Hawaii at Manoa     & 2520 Dole St                      & Honolulu                          & Hawaii                            & 96822                             & Honolulu County                   & United States                     & 2                                 & ⋯                                 & ZONE 20 / ZONE 20 \\#1            & University of Hawaii at Manoa     & 2520 Dole St                      & Honolulu                          & Hawaii                            & 2                                 & Public                            & Education                         & -157.8175                         & 21.29571                         \\\\\n",
       "\t 3                                & WWW.HIEV.US / HIEV  DEMO  001    & HIEV DEMO UNITS                  & 925 Bethel St                    & Honolulu                         & Hawaii                           & 96813                            & Honolulu County                  & United States                    & 1                                & ⋯                                & WWW.HIEV.US / HIEV  DEMO  001    & HIEV DEMO UNITS                  & 925 Bethel St                    & Honolulu                         & Hawaii                           & 1                                & Public                           & Demo Unit                        & -157.8627                        & 21.30978                        \\\\\n",
       "\t 4                                & WAILUKU BRANCH / MCFU WAILUKU 1  & Maui County Federal Credit Union & 1888-1898 Wili Pa Loop           & Wailuku                          & Hawaii                           & 96793                            & Maui County                      & United States                    & 2                                & ⋯                                & WAILUKU BRANCH / MCFU WAILUKU 1  & Maui County Federal Credit Union & 1888-1898 Wili Pa Loop           & Wailuku                          & Hawaii                           & 2                                & Public                           & Workplace                        & -156.4995                        & 20.89431                        \\\\\n",
       "\\end{tabular}\n"
      ],
      "text/markdown": [
       "\n",
       "X.x | Station.Name.x | Org.Name.x | Address.1.x | City.x | State.x | Postal.Code | County | Country | No..of.Ports.x | ⋯ | Station.Name.y | Org.Name.y | Address.1.y | City.y | State.y | No..of.Ports.y | Station.Activation.Type.y | Customer.Category.y | lon.y | lat.y | \n",
       "|---|---|---|---|---|---|\n",
       "| 1                                | ZONE 20 / ZONE 20 #2             | University of Hawaii at Manoa    | 2520 Dole St                     | Honolulu                         | Hawaii                           | 96822                            | Honolulu County                  | United States                    | 2                                | ⋯                                | ZONE 20 / ZONE 20 #2             | University of Hawaii at Manoa    | 2520 Dole St                     | Honolulu                         | Hawaii                           | 2                                | Public                           | Education                        | -157.8175                        | 21.29571                         | \n",
       "| 1                                | ZONE 20 / ZONE 20 #2             | University of Hawaii at Manoa    | 2520 Dole St                     | Honolulu                         | Hawaii                           | 96822                            | Honolulu County                  | United States                    | 2                                | ⋯                                | ZONE 20 / ZONE 20 #1             | University of Hawaii at Manoa    | 2520 Dole St                     | Honolulu                         | Hawaii                           | 2                                | Public                           | Education                        | -157.8175                        | 21.29571                         | \n",
       "| 2                                | ZONE 20 / ZONE 20 #1             | University of Hawaii at Manoa    | 2520 Dole St                     | Honolulu                         | Hawaii                           | 96822                            | Honolulu County                  | United States                    | 2                                | ⋯                                | ZONE 20 / ZONE 20 #2             | University of Hawaii at Manoa    | 2520 Dole St                     | Honolulu                         | Hawaii                           | 2                                | Public                           | Education                        | -157.8175                        | 21.29571                         | \n",
       "| 2                                | ZONE 20 / ZONE 20 #1             | University of Hawaii at Manoa    | 2520 Dole St                     | Honolulu                         | Hawaii                           | 96822                            | Honolulu County                  | United States                    | 2                                | ⋯                                | ZONE 20 / ZONE 20 #1             | University of Hawaii at Manoa    | 2520 Dole St                     | Honolulu                         | Hawaii                           | 2                                | Public                           | Education                        | -157.8175                        | 21.29571                         | \n",
       "| 3                                | WWW.HIEV.US / HIEV  DEMO  001    | HIEV DEMO UNITS                  | 925 Bethel St                    | Honolulu                         | Hawaii                           | 96813                            | Honolulu County                  | United States                    | 1                                | ⋯                                | WWW.HIEV.US / HIEV  DEMO  001    | HIEV DEMO UNITS                  | 925 Bethel St                    | Honolulu                         | Hawaii                           | 1                                | Public                           | Demo Unit                        | -157.8627                        | 21.30978                         | \n",
       "| 4                                | WAILUKU BRANCH / MCFU WAILUKU 1  | Maui County Federal Credit Union | 1888-1898 Wili Pa Loop           | Wailuku                          | Hawaii                           | 96793                            | Maui County                      | United States                    | 2                                | ⋯                                | WAILUKU BRANCH / MCFU WAILUKU 1  | Maui County Federal Credit Union | 1888-1898 Wili Pa Loop           | Wailuku                          | Hawaii                           | 2                                | Public                           | Workplace                        | -156.4995                        | 20.89431                         | \n",
       "\n",
       "\n"
      ],
      "text/plain": [
       "  X.x Station.Name.x                  Org.Name.x                      \n",
       "1 1   ZONE 20 / ZONE 20 #2            University of Hawaii at Manoa   \n",
       "2 1   ZONE 20 / ZONE 20 #2            University of Hawaii at Manoa   \n",
       "3 2   ZONE 20 / ZONE 20 #1            University of Hawaii at Manoa   \n",
       "4 2   ZONE 20 / ZONE 20 #1            University of Hawaii at Manoa   \n",
       "5 3   WWW.HIEV.US / HIEV  DEMO  001   HIEV DEMO UNITS                 \n",
       "6 4   WAILUKU BRANCH / MCFU WAILUKU 1 Maui County Federal Credit Union\n",
       "  Address.1.x            City.x   State.x Postal.Code County         \n",
       "1 2520 Dole St           Honolulu Hawaii  96822       Honolulu County\n",
       "2 2520 Dole St           Honolulu Hawaii  96822       Honolulu County\n",
       "3 2520 Dole St           Honolulu Hawaii  96822       Honolulu County\n",
       "4 2520 Dole St           Honolulu Hawaii  96822       Honolulu County\n",
       "5 925 Bethel St          Honolulu Hawaii  96813       Honolulu County\n",
       "6 1888-1898 Wili Pa Loop Wailuku  Hawaii  96793       Maui County    \n",
       "  Country       No..of.Ports.x ⋯ Station.Name.y                 \n",
       "1 United States 2              ⋯ ZONE 20 / ZONE 20 #2           \n",
       "2 United States 2              ⋯ ZONE 20 / ZONE 20 #1           \n",
       "3 United States 2              ⋯ ZONE 20 / ZONE 20 #2           \n",
       "4 United States 2              ⋯ ZONE 20 / ZONE 20 #1           \n",
       "5 United States 1              ⋯ WWW.HIEV.US / HIEV  DEMO  001  \n",
       "6 United States 2              ⋯ WAILUKU BRANCH / MCFU WAILUKU 1\n",
       "  Org.Name.y                       Address.1.y            City.y   State.y\n",
       "1 University of Hawaii at Manoa    2520 Dole St           Honolulu Hawaii \n",
       "2 University of Hawaii at Manoa    2520 Dole St           Honolulu Hawaii \n",
       "3 University of Hawaii at Manoa    2520 Dole St           Honolulu Hawaii \n",
       "4 University of Hawaii at Manoa    2520 Dole St           Honolulu Hawaii \n",
       "5 HIEV DEMO UNITS                  925 Bethel St          Honolulu Hawaii \n",
       "6 Maui County Federal Credit Union 1888-1898 Wili Pa Loop Wailuku  Hawaii \n",
       "  No..of.Ports.y Station.Activation.Type.y Customer.Category.y lon.y    \n",
       "1 2              Public                    Education           -157.8175\n",
       "2 2              Public                    Education           -157.8175\n",
       "3 2              Public                    Education           -157.8175\n",
       "4 2              Public                    Education           -157.8175\n",
       "5 1              Public                    Demo Unit           -157.8627\n",
       "6 2              Public                    Workplace           -156.4995\n",
       "  lat.y   \n",
       "1 21.29571\n",
       "2 21.29571\n",
       "3 21.29571\n",
       "4 21.29571\n",
       "5 21.30978\n",
       "6 20.89431"
      ]
     },
     "metadata": {},
     "output_type": "display_data"
    }
   ],
   "source": [
    "head(Charge_point_final)"
   ]
  },
  {
   "cell_type": "markdown",
   "metadata": {},
   "source": [
    "## Behold"
   ]
  },
  {
   "cell_type": "markdown",
   "metadata": {},
   "source": [
    "Think of the below code as a SAVE AS. We now have all of our work in a new file called \"Chargepoint_Goecode\""
   ]
  },
  {
   "cell_type": "code",
   "execution_count": 10,
   "metadata": {},
   "outputs": [],
   "source": [
    "write.csv(Charge_point_final, \"Geocoded_Chargepoint.csv\", row.names=FALSE)"
   ]
  }
 ],
 "metadata": {
  "kernelspec": {
   "display_name": "R",
   "language": "R",
   "name": "ir"
  },
  "language_info": {
   "codemirror_mode": "r",
   "file_extension": ".r",
   "mimetype": "text/x-r-source",
   "name": "R",
   "pygments_lexer": "r",
   "version": "3.4.1"
  }
 },
 "nbformat": 4,
 "nbformat_minor": 2
}
